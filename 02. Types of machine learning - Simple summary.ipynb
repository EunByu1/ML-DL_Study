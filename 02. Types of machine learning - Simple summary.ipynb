{
 "cells": [
  {
   "cell_type": "markdown",
   "id": "48380866",
   "metadata": {},
   "source": [
    "<h1> [ 머신러닝의 종류 ]"
   ]
  },
  {
   "cell_type": "markdown",
   "id": "55ea709c",
   "metadata": {},
   "source": [
    "----\n",
    "### 01. 지도학습\n",
    "---\n",
    "<br>\n",
    "▶ 지도학습 : 입력값과 출력값(타겟)을 함께 학습시킴 (문제집+답지꼴)<br>\n",
    "▶ 지도학습은 크게 분류(Classification)와 회귀(Regression)로 나눌 수 있음\n",
    "<br>\n",
    "<br>\n",
    "① 분류<br>\n",
    "$ \\quad $ : 말 그대로 분류임<br>\n",
    "② 회귀<br>\n",
    "$ \\quad $ : 수치적인 값과 관련 높음<br>\n"
   ]
  },
  {
   "cell_type": "markdown",
   "id": "739b85e1",
   "metadata": {},
   "source": []
  },
  {
   "cell_type": "markdown",
   "id": "193e9624",
   "metadata": {},
   "source": [
    "----\n",
    "### 02. 비지도학습\n",
    "---\n",
    "<br>\n",
    "▶ 비지도학습 : 입력값만을 가지고 학습시킴 (문제집꼴)<br>\n",
    "$ \\qquad \\qquad \\quad \\; $ * 데이터 분석시 많이 활용됨\n",
    "<br>\n",
    "<br>\n",
    "① 군집<br>\n",
    "$ \\quad $ ex) 신용카드 부정 사용 탐지, 추천 알고리즘(넷플릭스) 등<br>\n"
   ]
  },
  {
   "cell_type": "markdown",
   "id": "f0b2a18a",
   "metadata": {},
   "source": []
  },
  {
   "cell_type": "markdown",
   "id": "624d4648",
   "metadata": {},
   "source": [
    "----\n",
    "### 03. 준지도학습\n",
    "---\n",
    "<br>\n",
    "▶ 준지도학습 : 지도학습 + 비지도학습<br>\n",
    "<br>"
   ]
  },
  {
   "cell_type": "markdown",
   "id": "b7897612",
   "metadata": {},
   "source": []
  },
  {
   "cell_type": "markdown",
   "id": "d0427d3d",
   "metadata": {},
   "source": [
    "----\n",
    "### 04. 강화학습\n",
    "---\n",
    "<br>\n",
    "▶ 강화학습 설명<br>\n",
    "$ \\; $ * 준비물 : 학습하는 시스템(=에이전트)<br>\n",
    "$ \\qquad \\qquad \\, $ ex) 내 동생<br>\n",
    "$ \\; $ ① 에이저트가 환경을 관찰함<br>\n",
    "$ \\; $ ② 관찰 후 행동을 실행함<br>\n",
    "$ \\; $ ③ 그 결과 : 보상 획득함<br>\n",
    "<br>\n",
    "\n",
    "* 강화학습에서 사용되는 대표적인 알고리즘<br>\n",
    "$ \\; $ 1. Asynchronous Advantage actor-critic (A3C)<br>\n",
    "$ \\; $ 2. Deep Q-Networks(DQN)"
   ]
  },
  {
   "cell_type": "markdown",
   "id": "110a0414",
   "metadata": {},
   "source": []
  }
 ],
 "metadata": {
  "kernelspec": {
   "display_name": "Python 3 (ipykernel)",
   "language": "python",
   "name": "python3"
  },
  "language_info": {
   "codemirror_mode": {
    "name": "ipython",
    "version": 3
   },
   "file_extension": ".py",
   "mimetype": "text/x-python",
   "name": "python",
   "nbconvert_exporter": "python",
   "pygments_lexer": "ipython3",
   "version": "3.7.11"
  }
 },
 "nbformat": 4,
 "nbformat_minor": 5
}
