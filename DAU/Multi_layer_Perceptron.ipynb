{
  "cells": [
    {
      "cell_type": "markdown",
      "metadata": {
        "id": "mLQs0VeGmlG_"
      },
      "source": [
        "---\n",
        "# 01. Setting\n",
        "---"
      ]
    },
    {
      "cell_type": "code",
      "execution_count": null,
      "metadata": {
        "id": "m8nR_FOEk0bk"
      },
      "outputs": [],
      "source": [
        "# MLP 구현을 위한 모듈 선언\n",
        "import torch \n",
        "import torch.nn as nn\n",
        "import torchvision.datasets as dataset \n",
        "import torchvision.transforms as transform \n",
        "from torch.utils.data import DataLoader "
      ]
    },
    {
      "cell_type": "code",
      "execution_count": null,
      "metadata": {
        "id": "S-UXI9u_m1WQ"
      },
      "outputs": [],
      "source": [
        "# 폴더 경로 저장\n",
        "datasetPath   = \"/content/drive/MyDrive/dataset\"\n",
        "parameterPath =  \"/content/drive/MyDrive/parameters\""
      ]
    },
    {
      "cell_type": "code",
      "execution_count": null,
      "metadata": {
        "id": "n4pKDq-3ml-k"
      },
      "outputs": [],
      "source": [
        "# Training dataset download \n",
        "mnist_train = dataset.MNIST(root  = datasetPath,                     \n",
        "                            train = True,                            \n",
        "                            transform = transform.ToTensor(),        \n",
        "                            download  = True)                         \n",
        "\n",
        "# Testing dataset download \n",
        "mnist_test = dataset.MNIST(root = datasetPath,\n",
        "                           train = False,\n",
        "                           transform = transform.ToTensor(),\n",
        "                           download = True)"
      ]
    },
    {
      "cell_type": "markdown",
      "source": [
        "##### ① MLP 구현을 위해 필요한 모듈 import \n",
        "<h6><ul>  \n",
        "    <li> import torch  \n",
        "    <li> import torch.nn as nn  \n",
        "    <li> import torchvision.datasets as dataset \n",
        "    <li> import torchvision.datasets as dataset \n",
        "    <li> import torchvision.transforms as transform \n",
        "    <li> from torch.utils.data import DataLoader </li> \n",
        "</ul></h6>  \n",
        "<br>\n",
        "\n",
        "##### ② Training dataset download \n",
        "<h6><ul>\n",
        "    <li> datasetPath   = \"/content/drive/MyDrive/dataset\"<br>\n",
        "         → dataset을 저장한 경로를 datasetPath변수에 저장\n",
        "    <li> arameterPath =  \"/content/drive/MyDrive/parameters\"</li>\n",
        "         → paramete를 저장한 경로를 parameterPath변수에 저장  \n",
        "</ul></h6>\n",
        "<br>\n",
        "\n",
        "#### ③ Training dataset download  \n",
        "<h6>  \n",
        "\n",
        "```\n",
        "mnist_train = dataset.MNIST(root  = datasetPath(),\n",
        "                            train = True,  \n",
        "                            transform = transform.ToTensor(),\n",
        "                            download  = True) \n",
        "```  \n",
        "<ul>\n",
        "    <li> root = datasetPath<br>\n",
        "    : MNIST(손글씨로 쓴 이미지 data)를 다운로드한 후 datasetPath에 저장할거임.<br>  \n",
        "    → root = 어디에 저장할 것인지에 대한 경로 지정 변수\n",
        "    <li> train = True<br>   \n",
        "    : 훈련 데이터로 사용할 거임.<br>\n",
        "    → train = 데이터 셋을 훈련 데이터로 사용할 건인지에 대한 여부 확인 변수\n",
        "    <li> transform = transform.ToTensor()<br>\n",
        "    : MNIST(손글씨로 쓴 이미지 data)를 3차원 형태로 변환할거임.<br>\n",
        "    →transform = 데이터셋의 형태 지정 변수(=변환 변수)\n",
        "    <li> download  = True<br>\n",
        "    : 위에 옵션대로 데이터 셋을 다운로드할 거임.<br>\n",
        "    → download = 옵션대로 조정한 데이터셋을 다운로드할건지에 대한 여부 확인 변수</li></ul><br>\n",
        "▶ 위에 옵션대로 조정한 MNIST(손글씨로 쓴 이미지 data)를 다운로드한 후 mnist_train 변수가 이를 지정하도록 할거임.\n",
        "\n",
        "\n",
        "\n",
        "\n",
        "\n"
      ],
      "metadata": {
        "id": "vEFXcrg19pOI"
      }
    },
    {
      "cell_type": "markdown",
      "metadata": {
        "id": "poXnh1ATnpsh"
      },
      "source": [
        "---\n",
        "# 02. Multi-Layer Perceptron 모델 정의 : 2-Layer\n",
        "---"
      ]
    },
    {
      "cell_type": "code",
      "execution_count": null,
      "metadata": {
        "id": "5ZPNKVbtnm8-"
      },
      "outputs": [],
      "source": [
        "# 2-Layer\n",
        "class MLP(nn.Module):\n",
        "    def __init__(self):\n",
        "        super(MLP, self).__init__()\n",
        "        self.fc1 = nn.Linear(in_features = 784, out_features = 100)\n",
        "        self.fc2 = nn.Linear(in_features = 100, out_features = 10)\n",
        "        self.sigmoid = nn.Sigmoid()\n",
        "\n",
        "    def forward(self, x):\n",
        "        x = x.view(-1, 28*28)\n",
        "        y = self.sigmoid(self.fc1(x))\n",
        "        y = self.fc2(y)\n",
        "        return y"
      ]
    },
    {
      "cell_type": "markdown",
      "source": [
        "##### ① MLP 모델 생성 (1번째 함수 해석)\n",
        "<h6><ul>\n",
        "<li> super(MLP, self).__init__()<br>\n",
        "    → super : 지도학습 시키는 명령어\n",
        "<li> self.fc1 = nn.Linear(in_features = 784, out_features = 100)<br>\n",
        "    → 첫 번째 레이어는 input으로 784개를 받고, output으론 100개를 준다는 뜻임. \n",
        "<li> self.fc2 = nn.Linear(in_features = 100, out_features = 10)<br>\n",
        "    → 두 번째 레이어는 input으로 100개를 받고, output으론 10개를 준다는 뜻임. \n",
        "<li> self.sigmoid = nn.Sigmoid()<br>\n",
        "    → activate function으로 Sigmoid 함수를 사용할 거임.</li></ul><br>\n",
        "\n",
        "##### ② MLP 모델 생성 (2번째 함수 해석)\n",
        "<h6><ul>\n",
        "<li> x = x.view(-1, 28*28)<br>\n",
        "    → 3차원 형태의 데이터셋(MNIST)을 x에 넣고 28*28크기의 1차원 형태의 데이터셋으로 변환함.<br>\n",
        "    → 변환된 데이터셋(MNIST)를 변수 x에 저장함. \n",
        "<li> y = self.sigmoid(self.fc1(x))<br>\n",
        "    → 데이터셋을 fc1의 옵션대로 조정한 후 변수 y에 저장함.<br>\n",
        "<li> y = self.fc2(y)<br>\n",
        "    → fc1의 옵션대로 조정된 데이터셋을 다시 fc2의 옵션대로 재조정한 후 변수 y에 저장함. </li></ul><br>\n",
        "▶ 현재 상태 : 데이터셋(MNiST)이 총 2개의 레이어의 옵션에 의해 조정된 후 10개로 output됨. </h6>"
      ],
      "metadata": {
        "id": "WaEFgDukZMhY"
      }
    },
    {
      "cell_type": "markdown",
      "metadata": {
        "id": "F2_GO_JSoVHC"
      },
      "source": [
        "---\n",
        "# 03. Hyper-Parameter 지정\n",
        "---"
      ]
    },
    {
      "cell_type": "code",
      "execution_count": null,
      "metadata": {
        "id": "HR1_4MaRoSTB"
      },
      "outputs": [],
      "source": [
        "batch_size = 100\n",
        "learning_rate = 0.1\n",
        "training_epochs = 15\n",
        "loss_function = nn.CrossEntropyLoss()\n",
        "network = MLP()\n",
        "\n",
        "optimizer = torch.optim.SGD(network.parameters(), lr = learning_rate)\n",
        "data_loader = DataLoader(dataset = mnist_train,\n",
        "                          batch_size = batch_size,\n",
        "                          shuffle = True,\n",
        "                          drop_last = True)"
      ]
    },
    {
      "cell_type": "markdown",
      "source": [
        "##### ① Hyper-Parameter 지정 해석 - 1  \n",
        "<h6><ul>\n",
        "    <li> batch_size = 100<br>\n",
        "        : 데이터셋(MNIST)를 묶음단위로 가져와서 각각을 처리할거임.<br>\n",
        "        (Ex)<br>\n",
        "ⓐ   1~100번에 해당하는 각각의 데이터셋(MNIST) 100개를 가지고와서 먼저 한바퀴를 돌면서 처리할거임.(1epoch)<br>\n",
        "ⓑ   후에 101~200번까지.. 201~300번까지.. 데이터셋을 다 쓸때까지 100개씩 묶어서 한바퀴 기준으로 각각을 처리할 거임.</li>\n",
        "    <li> learning_rate = 0.1<br>\n",
        "        : 데이터셋(MNIST)에 영향을 주는 w와 b의 값을 0.1씩 변형해가며 최적의 Loss값을 갖는 MLP모델을 만들기위해 <br>값을 조정해나가는 과정임.</li>\n",
        "    <li> loss_function = nn.CrossEntropyLoss()<br>\n",
        "        : LossFunction으로 CrossEntropyLoss를 사용할 것임을 지정한 후 변수 loss_function에 이를 저장함.</li>\n",
        "    <li> network = MLP() <br>\n",
        "        : 신경망으로 MLP를 사용할 것임을 지정한 후 변수 network에 이를 저장함.</li></h6><br>\n",
        "\n",
        "##### ② Hyper-Parameter 지정 해석 - 2  \n",
        "<h6><ul>\n",
        "    <li> optimizer = torch.optim.SGD(network.parameters(), lr = learning_rate)<br>\n",
        "        : 얼만큼 값을 변형해 나갈것인지에 대한 여부를 저장하고 있는 learning_rate와 신경망 parameters를 이용하여, 최적의 Loss Function값을 갖는 구간을 찾는 알고리즘, optimizer을 생성함.</li><br>\n",
        "\n",
        "\n",
        "```\n",
        "data_loader = DataLoader(dataset = mnist_train,\n",
        "                          batch_size = batch_size,\n",
        "                          shuffle = True,\n",
        "                          drop_last = True)\n",
        "```  \n",
        "<br>\n",
        "    <li> dataset = mnist_train <br>  \n",
        "        : mnist_train 변수에 저장되어 있는 변환된 데이터셋(MNIST)을 사용할거임.<br>\n",
        "        → dataset : 사용할 데이터셋 지정 변수 \n",
        "    <li> batch_size = batch_size<br>  \n",
        "        : 100묶음씩 데이터셋(MNIST)을 가져올거임.<br>\n",
        "        → batch_size : 데이터셋(MNIST)을 묶음의 형태로 몇개씩 가져올 것인지를 지정하는 변수 \n",
        "    <li> shuffle = True<br>\n",
        "        : 순서대로 정리되어 있는 데이터셋(MNIST)을 무작위로 섞어서 재배열된 형태로 이를 사용할 거임.<br>\n",
        "        → shuffle : 무작위로 섞어서 재배열된 형태의 데이터셋을 사용할 것인지를 \n",
        "        지정하는 변수\n",
        "    <li> drop_last = True <br>\n",
        "        : 데이터셋(MNIST)을 batch_size의 값만큼씩 묶은 후에 남는 데이터셋(MNIST)은 버릴거임.<br>\n",
        "        → drop_last : batch_size의 값만큼씩 데이터셋을 묶은 후에 남는 데이터셋을 어떻게 처리할 것인지에 대해 이를 지정하는 변수<br>\n",
        "        (trash or no-trash)\n",
        "        </li>  \n",
        "</ul></h6><br>\n",
        "\n",
        "\n",
        "#####[ 정리 ]  \n",
        "1. 최적의 LossFunction값을 갖는 구간을 찾기 위해 신경망 parameters와 learning_rate를 이용하여 알고리즘, optimizer을 생성함.<br>\n",
        "\n",
        "2. data_loader : MLP모델을 만들기 위해 어떤 데이터셋을 사용할 것이고, 어떤 형태로 데이터셋을 사용할 것인지를 지정하는 변수임. <br><br>\n",
        "\n",
        "#####[ 같은 말 ]\n",
        "*   optimizer을 이용하여 최적의 w와 b값을 갖는 구간을 찾음.\n",
        "*   최적의 Lossfunction값을 갖는 구간을 찾음.\n",
        "*   좋은 MLP모델을 만들 수 있음.\n",
        "\n",
        "\n",
        "\n"
      ],
      "metadata": {
        "id": "bmQiMh6LlzYa"
      }
    },
    {
      "cell_type": "markdown",
      "metadata": {
        "id": "X-98W8JkpPMR"
      },
      "source": [
        "---\n",
        "# 04. Network Training\n",
        "---"
      ]
    },
    {
      "cell_type": "code",
      "execution_count": null,
      "metadata": {
        "colab": {
          "background_save": true,
          "base_uri": "https://localhost:8080/",
          "height": 424
        },
        "id": "KeLNC5Boo2Hb",
        "outputId": "df33e3f9-487e-4611-bff5-e6facef9836b"
      },
      "outputs": [
        {
          "name": "stdout",
          "output_type": "stream",
          "text": [
            "Epoch: 1   Loss = 1.156663\n",
            "Epoch: 2   Loss = 0.447884\n",
            "Epoch: 3   Loss = 0.358494\n",
            "Epoch: 4   Loss = 0.321747\n",
            "Epoch: 5   Loss = 0.299265\n",
            "Epoch: 6   Loss = 0.282604\n",
            "Epoch: 7   Loss = 0.268858\n",
            "Epoch: 8   Loss = 0.256485\n",
            "Epoch: 9   Loss = 0.245351\n",
            "Epoch: 10   Loss = 0.235224\n",
            "Epoch: 11   Loss = 0.225781\n",
            "Epoch: 12   Loss = 0.217202\n",
            "Epoch: 13   Loss = 0.208726\n",
            "Epoch: 14   Loss = 0.201438\n",
            "Epoch: 15   Loss = 0.194525\n",
            "Learning finished\n"
          ]
        }
      ],
      "source": [
        "# 1 epoch 내의 배치에 대한 반복 : iteration\n",
        "for epoch in range(training_epochs):\n",
        "    avg_cost = 0 \n",
        "    total_batch = len(data_loader)\n",
        "\n",
        "    for img, label in data_loader:\n",
        "        pred = network(img)\n",
        "\n",
        "        loss = loss_function(pred, label)\n",
        "        optimizer.zero_grad()       # 기울기가 0인지점을 찾기위해 이동함.\n",
        "        loss.backward()             # 이동방법 : Backpropagation\n",
        "        optimizer.step()            # learning rate값만큼 w와 b값이 변하는 방향으로 optimizer 이동함.\n",
        "\n",
        "        # 모든 배치에 대한 평균 loss 값 계산\n",
        "        avg_cost += loss / total_batch\n",
        "    \n",
        "    print(\"Epoch: %d   Loss = %f\" % (epoch+1, avg_cost))\n",
        "print(\"Learning finished\")"
      ]
    },
    {
      "cell_type": "markdown",
      "metadata": {
        "id": "0S4Bp4_NqwTb"
      },
      "source": [
        "---\n",
        "# 05. Weight parameter 저장 \n",
        "---"
      ]
    },
    {
      "cell_type": "code",
      "execution_count": null,
      "metadata": {
        "colab": {
          "background_save": true
        },
        "id": "KOHQOop-p-sb"
      },
      "outputs": [],
      "source": [
        "torch.save(network.state_dict(), parameterPath+\"mlp_mnist.pth\")"
      ]
    },
    {
      "cell_type": "markdown",
      "metadata": {
        "id": "0GZilx53q8hp"
      },
      "source": [
        "---\n",
        "# 06. 저장된 Weight parameter 불러오기\n",
        "---"
      ]
    },
    {
      "cell_type": "code",
      "execution_count": null,
      "metadata": {
        "colab": {
          "background_save": true
        },
        "id": "AjDq9SCFq6uF",
        "outputId": "f82e673f-4835-453b-b5a5-6bcc7aec4457"
      },
      "outputs": [
        {
          "data": {
            "text/plain": [
              "<All keys matched successfully>"
            ]
          },
          "execution_count": null,
          "metadata": {},
          "output_type": "execute_result"
        }
      ],
      "source": [
        "new_network = MLP()\n",
        "new_network.load_state_dict(torch.load(parameterPath+\"mlp_mnist.pth\"))"
      ]
    },
    {
      "cell_type": "markdown",
      "metadata": {
        "id": "69jx_cg9rNR7"
      },
      "source": [
        "---\n",
        "# 07. Training 된 Network 성능 확인\n",
        "---"
      ]
    },
    {
      "cell_type": "code",
      "execution_count": null,
      "metadata": {
        "colab": {
          "background_save": true
        },
        "id": "oTp83OFTrIu9",
        "outputId": "e8eb959b-b99d-48e6-abbe-7403ec2a3536"
      },
      "outputs": [
        {
          "name": "stdout",
          "output_type": "stream",
          "text": [
            "Accuracy: 0.9452999830245972\n"
          ]
        }
      ],
      "source": [
        "with torch.no_grad():\n",
        "    img_test = mnist_test.data.float()\n",
        "    label_test = mnist_test.targets\n",
        "\n",
        "    # 전체 test data를 한번에 계산\n",
        "    prediction = network(img_test)\n",
        "\n",
        "    correct_prediction = torch.argmax(prediction, 1) == label_test\n",
        "    accuracy = correct_prediction.float().mean()\n",
        "    print(\"Accuracy:\", accuracy.item())"
      ]
    },
    {
      "cell_type": "markdown",
      "metadata": {
        "id": "7GDNyOAesFE8"
      },
      "source": [
        "---\n",
        "# 08. 예측 결과 값 확인\n",
        "---"
      ]
    },
    {
      "cell_type": "code",
      "execution_count": null,
      "metadata": {
        "colab": {
          "background_save": true
        },
        "id": "aaftM0vmrowE",
        "outputId": "ab532a67-7013-46f1-8b5b-5e620f0349cc"
      },
      "outputs": [
        {
          "name": "stdout",
          "output_type": "stream",
          "text": [
            "tensor([[ 0.8385, -6.2760,  4.3639,  5.0523, -3.3034, -2.7419, -9.6230, 12.6209,\n",
            "         -2.4834,  1.9886]])\n"
          ]
        }
      ],
      "source": [
        "# Test dataset 중 첫번째 Image 추출\n",
        "first_data = mnist_test.data[0]\n",
        "\n",
        "with torch.no_grad():\n",
        "    predcition = network(first_data.view(-1, 784). float())\n",
        "print(predcition)"
      ]
    },
    {
      "cell_type": "code",
      "execution_count": null,
      "metadata": {
        "colab": {
          "background_save": true
        },
        "id": "OQZC5OEusVM0",
        "outputId": "c547ff80-c738-47d3-cf77-07c6550d1e4a"
      },
      "outputs": [
        {
          "name": "stdout",
          "output_type": "stream",
          "text": [
            "예측 값은 26057 입니다.\n"
          ]
        }
      ],
      "source": [
        "# 예측 점수가 가장 높은 숫자 가져오기 \n",
        "prediction_num = torch.argmax(prediction)\n",
        "print(\"예측 값은 %d 입니다.\" %(prediction_num))"
      ]
    },
    {
      "cell_type": "markdown",
      "metadata": {
        "id": "RPVX5eHBskoH"
      },
      "source": [
        "---\n",
        "# 09. 정답 이미지 확인\n",
        "---"
      ]
    },
    {
      "cell_type": "code",
      "execution_count": null,
      "metadata": {
        "colab": {
          "background_save": true
        },
        "id": "6rh1YvLksipr",
        "outputId": "5dbe02a5-e8a1-4a6a-fa70-e2d85c9b22d5"
      },
      "outputs": [
        {
          "data": {
            "image/png": "[encoded data removed]",
            "text/plain": [
              "<Figure size 432x288 with 1 Axes>"
            ]
          },
          "metadata": {},
          "output_type": "display_data"
        }
      ],
      "source": [
        "import matplotlib.pyplot as plt\n",
        "plt.imshow(first_data, cmap=\"gray\")\n",
        "plt.show()"
      ]
    }
  ],
  "metadata": {
    "colab": {
      "collapsed_sections": [],
      "name": "Multi-layer Perceptron",
      "provenance": []
    },
    "kernelspec": {
      "display_name": "Python 3",
      "name": "python3"
    },
    "language_info": {
      "name": "python"
    }
  },
  "nbformat": 4,
  "nbformat_minor": 0
}