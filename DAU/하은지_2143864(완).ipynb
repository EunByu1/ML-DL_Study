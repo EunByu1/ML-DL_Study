{
  "cells": [
    {
      "cell_type": "markdown",
      "metadata": {
        "id": "mdcRtVHdBpZT"
      },
      "source": [
        "---\n",
        "# 1. Setting\n",
        "---"
      ]
    },
    {
      "cell_type": "code",
      "execution_count": 10,
      "metadata": {
        "id": "MmrZNbsD9pip"
      },
      "outputs": [],
      "source": [
        "# MLP 구현을 위한 모듈 선언\n",
        "import torch\n",
        "import torch.nn as nn\n",
        "import torchvision.datasets as dataset\n",
        "import torchvision.transforms as transform\n",
        "from torch.utils.data import DataLoader\n",
        "import torch.nn.functional as F\n",
        "import numpy as np"
      ]
    },
    {
      "cell_type": "code",
      "execution_count": 11,
      "metadata": {
        "id": "RisUIKvZ9p3s"
      },
      "outputs": [],
      "source": [
        "# 폴더 경로 저장\n",
        "datasetPath = \"/content/drive/MyDrive/datatset\"\n",
        "parameterPath = '/content/drive/MyDrive/parameters'"
      ]
    },
    {
      "cell_type": "code",
      "execution_count": 12,
      "metadata": {
        "colab": {
          "base_uri": "https://localhost:8080/"
        },
        "id": "xH4V0zK-9r02",
        "outputId": "937848a7-a9ec-4cc3-f9d5-2caa5273bd5b"
      },
      "outputs": [
        {
          "output_type": "stream",
          "name": "stdout",
          "text": [
            "Files already downloaded and verified\n",
            "Files already downloaded and verified\n"
          ]
        }
      ],
      "source": [
        "# Iraining dataset 다운로드\n",
        "cifar10_train = dataset.CIFAR10(root = datasetPath,                     \n",
        "                            train = True,                           \n",
        "                            transform = transform.ToTensor(),\n",
        "                            download = True)\n",
        "# testing dataset 다운로드\n",
        "cifar10_test = dataset.CIFAR10(root = datasetPath,                      \n",
        "                           train = False,                            \n",
        "                           transform = transform.ToTensor(),                                                           \n",
        "                           download = True)                          \n"
      ]
    },
    {
      "cell_type": "markdown",
      "metadata": {
        "id": "ma1vjH6CBwQD"
      },
      "source": [
        "---\n",
        "# 2. Overfitting 방지\n",
        "---"
      ]
    },
    {
      "cell_type": "code",
      "execution_count": 13,
      "metadata": {
        "id": "9gYDoCRQ9vQ1"
      },
      "outputs": [],
      "source": [
        "# 시계 방향 10도 Rotation\n",
        "trans_rotation_right_10 = transform.RandomRotation((10,10))\n",
        "rotation_data_right_10  = np.array(trans_rotation_right_10(torch.tensor(cifar10_train.data)))\n",
        "\n",
        "# 시계 방향 20도 Rotation 수행\n",
        "trans_rotation_right_20 = transform.RandomRotation((20,20))\n",
        "rotation_data_right_20  = np.array(trans_rotation_right_10(torch.tensor(cifar10_train.data)))\n",
        "\n",
        "# 시계 방향 30도 Rotation 수행\n",
        "trans_rotation_right_30 = transform.RandomRotation((30,30))\n",
        "rotation_data_right_30  = np.array(trans_rotation_right_10(torch.tensor(cifar10_train.data)))\n",
        "\n",
        "# 반 시계 방향 10도 Rotation 수행\n",
        "trans_rotation_left_10 = transform.RandomRotation((-10, -10))\n",
        "rotation_data_left_10  = np.array(trans_rotation_right_10(torch.tensor(cifar10_train.data)))\n",
        "\n",
        "# 반 시계 방향 20도 Rotation 수행\n",
        "trans_rotation_left_20 = transform.RandomRotation((-20, -20))\n",
        "rotation_data_left_20  = np.array(trans_rotation_right_10(torch.tensor(cifar10_train.data)))\n",
        "\n",
        "# 반 시계 방향 30도 Rotation 수행\n",
        "trans_rotation_left_30 = transform.RandomRotation((-30, -30))\n",
        "rotation_data_left_30  = np.array(trans_rotation_right_10(torch.tensor(cifar10_train.data)))\n"
      ]
    },
    {
      "cell_type": "code",
      "execution_count": 14,
      "metadata": {
        "id": "ogoxILOP9yTO"
      },
      "outputs": [],
      "source": [
        "cifar10_train.data = np.array(torch.cat((torch.tensor(cifar10_train.data), torch.tensor(rotation_data_right_10), torch.tensor(rotation_data_right_20), torch.tensor(rotation_data_right_30), torch.tensor(rotation_data_left_10), torch.tensor(rotation_data_left_20), torch.tensor(rotation_data_left_30)),0))"
      ]
    },
    {
      "cell_type": "code",
      "execution_count": 15,
      "metadata": {
        "id": "6BMzYrad91Pl"
      },
      "outputs": [],
      "source": [
        "cifar10_train.targets = cifar10_train.targets*7"
      ]
    },
    {
      "cell_type": "markdown",
      "metadata": {
        "id": "C1vLXviBCudv"
      },
      "source": [
        "---\n",
        "# 3. 모델\n",
        "---"
      ]
    },
    {
      "cell_type": "code",
      "execution_count": 16,
      "metadata": {
        "id": "uky_17I292m7"
      },
      "outputs": [],
      "source": [
        "# MLP 모델 정의\n",
        "class MLP(nn.Module):\n",
        "  def __init__(self): \n",
        "    super(MLP, self).__init__()                                       \n",
        "    self.fc1 = nn.Linear(in_features=3072, out_features=340)                                                                                                  \n",
        "    self.fc2 = nn.Linear(in_features=340, out_features=340)                    \n",
        "    self.fc3 = nn.Linear(in_features=340, out_features=10)           \n",
        "    self.relu = nn.ReLU()                                    \n",
        "    self.dropout = nn.Dropout(0,2)\n",
        "    self.bn = nn.BatchNorm1d(340)\n",
        "\n",
        "    torch.nn.init.xavier_normal_(self.fc1.weight.data)\n",
        "    torch.nn.init.xavier_normal_(self.fc2.weight.data)\n",
        "    torch.nn.init.xavier_normal_(self.fc3.weight.data)\n",
        "\n",
        "  def forward(self, x): \n",
        "                                   \n",
        "    x = x.view(-1,3*32*32)                                             \n",
        "                                                                \n",
        "    y = self.relu(self.bn(self.fc1(x)))                                     \n",
        "    y = self.relu(self.bn(self.fc2(y)))                                                                            \n",
        "    y = self.dropout(y)\n",
        "    y = self.fc3(y)                                                    \n",
        "    return y    "
      ]
    },
    {
      "cell_type": "code",
      "execution_count": 17,
      "metadata": {
        "id": "HYNjnbVJ94iE"
      },
      "outputs": [],
      "source": [
        "# MNIST 분류를 위한 MLP 모델 학습\n",
        "batch_size = 142                                                    \n",
        "learning_rate = 0.1                                                \n",
        "training_epochs = 16                                             \n",
        "loss_function = nn.CrossEntropyLoss()                            \n",
        "                                                                     \n",
        "network = MLP()                                                 \n",
        "optimizer = torch.optim.SGD(network.parameters(), lr = learning_rate, momentum=0.9) \n",
        "\n",
        "data_loader =   DataLoader(dataset = cifar10_train,                   \n",
        "                           batch_size = batch_size,                 \n",
        "                           shuffle = True,          \n",
        "                           drop_last = True\n",
        "                           )                                            \n",
        "\n",
        "testdata_loader = DataLoader(dataset = cifar10_test,\n",
        "                             batch_size=batch_size,\n",
        "                             shuffle=False,\n",
        "                             drop_last = True\n",
        "                             )\n"
      ]
    },
    {
      "cell_type": "markdown",
      "metadata": {
        "id": "0UXS4zH8CyH7"
      },
      "source": [
        "---\n",
        "# 4. 학습\n",
        "---"
      ]
    },
    {
      "cell_type": "code",
      "execution_count": 18,
      "metadata": {
        "id": "i9aGEOkC_m1_",
        "colab": {
          "base_uri": "https://localhost:8080/",
          "height": 667
        },
        "outputId": "b43e1e03-793f-4044-d3a7-ed5d874435ce"
      },
      "outputs": [
        {
          "output_type": "stream",
          "name": "stdout",
          "text": [
            "Epoch: 1 Loss = 1.352333\n",
            "Epoch: 2 Loss = 0.963359\n",
            "Epoch: 3 Loss = 0.715658\n",
            "Epoch: 4 Loss = 0.540844\n",
            "Epoch: 5 Loss = 0.422009\n",
            "Epoch: 6 Loss = 0.340585\n",
            "Epoch: 7 Loss = 0.291048\n",
            "Epoch: 8 Loss = 0.251585\n",
            "Epoch: 9 Loss = 0.218712\n",
            "Epoch: 10 Loss = 0.194330\n",
            "Epoch: 11 Loss = 0.178574\n",
            "Epoch: 12 Loss = 0.160340\n",
            "Epoch: 13 Loss = 0.149575\n",
            "Epoch: 14 Loss = 0.135997\n"
          ]
        },
        {
          "output_type": "error",
          "ename": "KeyboardInterrupt",
          "evalue": "ignored",
          "traceback": [
            "\u001b[0;31m---------------------------------------------------------------------------\u001b[0m",
            "\u001b[0;31mKeyboardInterrupt\u001b[0m                         Traceback (most recent call last)",
            "\u001b[0;32m<ipython-input-18-cfa8dcf0c2dc>\u001b[0m in \u001b[0;36m<module>\u001b[0;34m()\u001b[0m\n\u001b[1;32m      8\u001b[0m   \u001b[0;32mfor\u001b[0m \u001b[0mimg\u001b[0m\u001b[0;34m,\u001b[0m \u001b[0mlabel\u001b[0m \u001b[0;32min\u001b[0m \u001b[0mdata_loader\u001b[0m\u001b[0;34m:\u001b[0m\u001b[0;34m\u001b[0m\u001b[0;34m\u001b[0m\u001b[0m\n\u001b[1;32m      9\u001b[0m \u001b[0;34m\u001b[0m\u001b[0m\n\u001b[0;32m---> 10\u001b[0;31m     \u001b[0mpred\u001b[0m \u001b[0;34m=\u001b[0m \u001b[0mnetwork\u001b[0m\u001b[0;34m(\u001b[0m\u001b[0mimg\u001b[0m\u001b[0;34m)\u001b[0m\u001b[0;34m\u001b[0m\u001b[0;34m\u001b[0m\u001b[0m\n\u001b[0m\u001b[1;32m     11\u001b[0m \u001b[0;34m\u001b[0m\u001b[0m\n\u001b[1;32m     12\u001b[0m     \u001b[0mloss\u001b[0m \u001b[0;34m=\u001b[0m \u001b[0mloss_function\u001b[0m\u001b[0;34m(\u001b[0m\u001b[0mpred\u001b[0m\u001b[0;34m,\u001b[0m \u001b[0mlabel\u001b[0m\u001b[0;34m)\u001b[0m\u001b[0;34m\u001b[0m\u001b[0;34m\u001b[0m\u001b[0m\n",
            "\u001b[0;32m/usr/local/lib/python3.7/dist-packages/torch/nn/modules/module.py\u001b[0m in \u001b[0;36m_call_impl\u001b[0;34m(self, *input, **kwargs)\u001b[0m\n\u001b[1;32m   1108\u001b[0m         if not (self._backward_hooks or self._forward_hooks or self._forward_pre_hooks or _global_backward_hooks\n\u001b[1;32m   1109\u001b[0m                 or _global_forward_hooks or _global_forward_pre_hooks):\n\u001b[0;32m-> 1110\u001b[0;31m             \u001b[0;32mreturn\u001b[0m \u001b[0mforward_call\u001b[0m\u001b[0;34m(\u001b[0m\u001b[0;34m*\u001b[0m\u001b[0minput\u001b[0m\u001b[0;34m,\u001b[0m \u001b[0;34m**\u001b[0m\u001b[0mkwargs\u001b[0m\u001b[0;34m)\u001b[0m\u001b[0;34m\u001b[0m\u001b[0;34m\u001b[0m\u001b[0m\n\u001b[0m\u001b[1;32m   1111\u001b[0m         \u001b[0;31m# Do not call functions when jit is used\u001b[0m\u001b[0;34m\u001b[0m\u001b[0;34m\u001b[0m\u001b[0;34m\u001b[0m\u001b[0m\n\u001b[1;32m   1112\u001b[0m         \u001b[0mfull_backward_hooks\u001b[0m\u001b[0;34m,\u001b[0m \u001b[0mnon_full_backward_hooks\u001b[0m \u001b[0;34m=\u001b[0m \u001b[0;34m[\u001b[0m\u001b[0;34m]\u001b[0m\u001b[0;34m,\u001b[0m \u001b[0;34m[\u001b[0m\u001b[0;34m]\u001b[0m\u001b[0;34m\u001b[0m\u001b[0;34m\u001b[0m\u001b[0m\n",
            "\u001b[0;32m<ipython-input-16-12735ba805e4>\u001b[0m in \u001b[0;36mforward\u001b[0;34m(self, x)\u001b[0m\n\u001b[1;32m     18\u001b[0m     \u001b[0mx\u001b[0m \u001b[0;34m=\u001b[0m \u001b[0mx\u001b[0m\u001b[0;34m.\u001b[0m\u001b[0mview\u001b[0m\u001b[0;34m(\u001b[0m\u001b[0;34m-\u001b[0m\u001b[0;36m1\u001b[0m\u001b[0;34m,\u001b[0m\u001b[0;36m3\u001b[0m\u001b[0;34m*\u001b[0m\u001b[0;36m32\u001b[0m\u001b[0;34m*\u001b[0m\u001b[0;36m32\u001b[0m\u001b[0;34m)\u001b[0m\u001b[0;34m\u001b[0m\u001b[0;34m\u001b[0m\u001b[0m\n\u001b[1;32m     19\u001b[0m \u001b[0;34m\u001b[0m\u001b[0m\n\u001b[0;32m---> 20\u001b[0;31m     \u001b[0my\u001b[0m \u001b[0;34m=\u001b[0m \u001b[0mself\u001b[0m\u001b[0;34m.\u001b[0m\u001b[0mrelu\u001b[0m\u001b[0;34m(\u001b[0m\u001b[0mself\u001b[0m\u001b[0;34m.\u001b[0m\u001b[0mbn\u001b[0m\u001b[0;34m(\u001b[0m\u001b[0mself\u001b[0m\u001b[0;34m.\u001b[0m\u001b[0mfc1\u001b[0m\u001b[0;34m(\u001b[0m\u001b[0mx\u001b[0m\u001b[0;34m)\u001b[0m\u001b[0;34m)\u001b[0m\u001b[0;34m)\u001b[0m\u001b[0;34m\u001b[0m\u001b[0;34m\u001b[0m\u001b[0m\n\u001b[0m\u001b[1;32m     21\u001b[0m     \u001b[0my\u001b[0m \u001b[0;34m=\u001b[0m \u001b[0mself\u001b[0m\u001b[0;34m.\u001b[0m\u001b[0mrelu\u001b[0m\u001b[0;34m(\u001b[0m\u001b[0mself\u001b[0m\u001b[0;34m.\u001b[0m\u001b[0mbn\u001b[0m\u001b[0;34m(\u001b[0m\u001b[0mself\u001b[0m\u001b[0;34m.\u001b[0m\u001b[0mfc2\u001b[0m\u001b[0;34m(\u001b[0m\u001b[0my\u001b[0m\u001b[0;34m)\u001b[0m\u001b[0;34m)\u001b[0m\u001b[0;34m)\u001b[0m\u001b[0;34m\u001b[0m\u001b[0;34m\u001b[0m\u001b[0m\n\u001b[1;32m     22\u001b[0m     \u001b[0my\u001b[0m \u001b[0;34m=\u001b[0m \u001b[0mself\u001b[0m\u001b[0;34m.\u001b[0m\u001b[0mdropout\u001b[0m\u001b[0;34m(\u001b[0m\u001b[0my\u001b[0m\u001b[0;34m)\u001b[0m\u001b[0;34m\u001b[0m\u001b[0;34m\u001b[0m\u001b[0m\n",
            "\u001b[0;32m/usr/local/lib/python3.7/dist-packages/torch/nn/modules/module.py\u001b[0m in \u001b[0;36m_call_impl\u001b[0;34m(self, *input, **kwargs)\u001b[0m\n\u001b[1;32m   1108\u001b[0m         if not (self._backward_hooks or self._forward_hooks or self._forward_pre_hooks or _global_backward_hooks\n\u001b[1;32m   1109\u001b[0m                 or _global_forward_hooks or _global_forward_pre_hooks):\n\u001b[0;32m-> 1110\u001b[0;31m             \u001b[0;32mreturn\u001b[0m \u001b[0mforward_call\u001b[0m\u001b[0;34m(\u001b[0m\u001b[0;34m*\u001b[0m\u001b[0minput\u001b[0m\u001b[0;34m,\u001b[0m \u001b[0;34m**\u001b[0m\u001b[0mkwargs\u001b[0m\u001b[0;34m)\u001b[0m\u001b[0;34m\u001b[0m\u001b[0;34m\u001b[0m\u001b[0m\n\u001b[0m\u001b[1;32m   1111\u001b[0m         \u001b[0;31m# Do not call functions when jit is used\u001b[0m\u001b[0;34m\u001b[0m\u001b[0;34m\u001b[0m\u001b[0;34m\u001b[0m\u001b[0m\n\u001b[1;32m   1112\u001b[0m         \u001b[0mfull_backward_hooks\u001b[0m\u001b[0;34m,\u001b[0m \u001b[0mnon_full_backward_hooks\u001b[0m \u001b[0;34m=\u001b[0m \u001b[0;34m[\u001b[0m\u001b[0;34m]\u001b[0m\u001b[0;34m,\u001b[0m \u001b[0;34m[\u001b[0m\u001b[0;34m]\u001b[0m\u001b[0;34m\u001b[0m\u001b[0;34m\u001b[0m\u001b[0m\n",
            "\u001b[0;32m/usr/local/lib/python3.7/dist-packages/torch/nn/modules/linear.py\u001b[0m in \u001b[0;36mforward\u001b[0;34m(self, input)\u001b[0m\n\u001b[1;32m    101\u001b[0m \u001b[0;34m\u001b[0m\u001b[0m\n\u001b[1;32m    102\u001b[0m     \u001b[0;32mdef\u001b[0m \u001b[0mforward\u001b[0m\u001b[0;34m(\u001b[0m\u001b[0mself\u001b[0m\u001b[0;34m,\u001b[0m \u001b[0minput\u001b[0m\u001b[0;34m:\u001b[0m \u001b[0mTensor\u001b[0m\u001b[0;34m)\u001b[0m \u001b[0;34m->\u001b[0m \u001b[0mTensor\u001b[0m\u001b[0;34m:\u001b[0m\u001b[0;34m\u001b[0m\u001b[0;34m\u001b[0m\u001b[0m\n\u001b[0;32m--> 103\u001b[0;31m         \u001b[0;32mreturn\u001b[0m \u001b[0mF\u001b[0m\u001b[0;34m.\u001b[0m\u001b[0mlinear\u001b[0m\u001b[0;34m(\u001b[0m\u001b[0minput\u001b[0m\u001b[0;34m,\u001b[0m \u001b[0mself\u001b[0m\u001b[0;34m.\u001b[0m\u001b[0mweight\u001b[0m\u001b[0;34m,\u001b[0m \u001b[0mself\u001b[0m\u001b[0;34m.\u001b[0m\u001b[0mbias\u001b[0m\u001b[0;34m)\u001b[0m\u001b[0;34m\u001b[0m\u001b[0;34m\u001b[0m\u001b[0m\n\u001b[0m\u001b[1;32m    104\u001b[0m \u001b[0;34m\u001b[0m\u001b[0m\n\u001b[1;32m    105\u001b[0m     \u001b[0;32mdef\u001b[0m \u001b[0mextra_repr\u001b[0m\u001b[0;34m(\u001b[0m\u001b[0mself\u001b[0m\u001b[0;34m)\u001b[0m \u001b[0;34m->\u001b[0m \u001b[0mstr\u001b[0m\u001b[0;34m:\u001b[0m\u001b[0;34m\u001b[0m\u001b[0;34m\u001b[0m\u001b[0m\n",
            "\u001b[0;31mKeyboardInterrupt\u001b[0m: "
          ]
        }
      ],
      "source": [
        "# 모델 학습\n",
        "for epoch in range(training_epochs):                                  \n",
        "  avg_cost = 0                                                       \n",
        "                                                                     \n",
        "                                                                      \n",
        "  total_batch = len(data_loader)                                    \n",
        "\n",
        "  for img, label in data_loader:                                      \n",
        "                                                                     \n",
        "    pred = network(img)                                               \n",
        "  \n",
        "    loss = loss_function(pred, label)                              \n",
        "    optimizer.zero_grad()                                            \n",
        "    loss.backward()                                                  \n",
        "    optimizer.step()                                                  \n",
        "\n",
        "    avg_cost +=loss/total_batch                                       \n",
        "\n",
        "  print('Epoch: %d Loss = %f' %(epoch+1, avg_cost))                  \n",
        "print('Learning finished')                                           "
      ]
    },
    {
      "cell_type": "markdown",
      "metadata": {
        "id": "mXFIhotlC1D3"
      },
      "source": [
        "---\n",
        "# 5. 저장\n",
        "---"
      ]
    },
    {
      "cell_type": "code",
      "execution_count": 27,
      "metadata": {
        "id": "kDGe5eow99Ja"
      },
      "outputs": [],
      "source": [
        "torch.save(network.state_dict(), parameterPath + 'mlp_cifar10.pth')"
      ]
    },
    {
      "cell_type": "code",
      "execution_count": 28,
      "metadata": {
        "id": "-FuVCaSy9_nM",
        "colab": {
          "base_uri": "https://localhost:8080/"
        },
        "outputId": "72f307f1-2a6d-417e-ca74-59efc571b8b1"
      },
      "outputs": [
        {
          "output_type": "execute_result",
          "data": {
            "text/plain": [
              "<All keys matched successfully>"
            ]
          },
          "metadata": {},
          "execution_count": 28
        }
      ],
      "source": [
        "new_network = MLP()\n",
        "new_network.load_state_dict(torch.load(parameterPath+'mlp_cifar10.pth')) "
      ]
    },
    {
      "cell_type": "markdown",
      "metadata": {
        "id": "Z1zmEdIqC3dE"
      },
      "source": [
        "---\n",
        "# 6. 평가\n",
        "---"
      ]
    },
    {
      "cell_type": "code",
      "execution_count": 29,
      "metadata": {
        "id": "KflOATRR-B-Y",
        "colab": {
          "base_uri": "https://localhost:8080/"
        },
        "outputId": "645906ce-368e-4213-8f3e-b51eb8349ea2"
      },
      "outputs": [
        {
          "output_type": "stream",
          "name": "stdout",
          "text": [
            "Accuracy: 0.5263000130653381\n"
          ]
        }
      ],
      "source": [
        "#Training된 Network 성능 확인\n",
        "with torch.no_grad():\n",
        "\n",
        "    img_test = torch.tensor(np.transpose(cifar10_test.data, (0, 3, 1, 2)))/255\n",
        "    label_test = torch.tensor(cifar10_test.targets)\n",
        "\n",
        "    prediction = network(img_test)\n",
        "\n",
        "    correct_prediction = torch.argmax(prediction, 1) == label_test\n",
        "    accuracy = correct_prediction.float().mean()\n",
        "print(\"Accuracy:\" , accuracy.item())"
      ]
    }
  ],
  "metadata": {
    "colab": {
      "collapsed_sections": [],
      "name": "하은지_2143864(완)",
      "provenance": []
    },
    "kernelspec": {
      "display_name": "Python 3",
      "name": "python3"
    },
    "language_info": {
      "name": "python"
    }
  },
  "nbformat": 4,
  "nbformat_minor": 0
}