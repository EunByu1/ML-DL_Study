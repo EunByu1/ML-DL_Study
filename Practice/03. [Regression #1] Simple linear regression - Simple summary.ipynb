{
 "cells": [
  {
   "cell_type": "markdown",
   "id": "03094260",
   "metadata": {},
   "source": [
    "<h1> [ 단순회귀분석 ] "
   ]
  },
  {
   "cell_type": "markdown",
   "id": "53e2e30a",
   "metadata": {},
   "source": [
    "----\n",
    "### 01. 간단한 설명\n",
    "----  \n",
    "\n",
    "#### 【 #1. 독립변수와 종속변수란? 】  \n",
    "① 독립변수 : 입력값, 원인  \n",
    "$ \\quad $ = 설명변수(explanatory variable)  \n",
    "② 종속변수 : 결과물, 효과  \n",
    "$ \\quad $ = 반응변수(response variable)  \n",
    "▶ 독립변수와 종속변수는 ($x_i$, $y_i$)쌍으로 표현됨  \n",
    "$ \\quad $ 1. 독립변수의 집합 : X  \n",
    "$ \\quad $ 2. 종속변수의 집합 : Y  \n",
    "<br>\n",
    "\n",
    "#### 【 #2. 단순회귀분석이란? 】  \n",
    "① 회귀분석 : 변수들 사이의 관계를 추정하는 분석 방법   \n",
    "② 단순회귀분석 : 종속 변수에 영향을 미치는 독립 변수가 오직 하나만 존재하는 경우의 분석 방법"
   ]
  },
  {
   "cell_type": "markdown",
   "id": "95642758",
   "metadata": {},
   "source": [
    "----\n",
    "### 02. Cost Function\n",
    "----  \n",
    "① Cost Function  \n",
    "   : 예측을 하는 값과 실제 결과 값의 차이를 나타내는 함수  \n",
    "* 정확한 모델을 찾기 위해서 필요함\n",
    "* 제일 적절한 예측을 하는 가설 : Cost Funstion이 최소가 되는 가설  \n",
    "* 목표값 = 0\n",
    "<br>\n",
    "<br>\n",
    "\n",
    "② 점과 점사이의 거리의 제곱의 합 평균  \n",
    "\n",
    "$$ cost(W,b) = \\frac{1}{m}\\sum_{i=1}^m(H(x^i)-y^i)^2 $$\n",
    "\n"
   ]
  }
 ],
 "metadata": {
  "kernelspec": {
   "display_name": "Python 3 (ipykernel)",
   "language": "python",
   "name": "python3"
  },
  "language_info": {
   "codemirror_mode": {
    "name": "ipython",
    "version": 3
   },
   "file_extension": ".py",
   "mimetype": "text/x-python",
   "name": "python",
   "nbconvert_exporter": "python",
   "pygments_lexer": "ipython3",
   "version": "3.7.11"
  }
 },
 "nbformat": 4,
 "nbformat_minor": 5
}
