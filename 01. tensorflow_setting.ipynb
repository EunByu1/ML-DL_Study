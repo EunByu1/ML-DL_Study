{
 "cells": [
  {
   "cell_type": "code",
   "execution_count": 2,
   "id": "4aa6932f",
   "metadata": {},
   "outputs": [],
   "source": [
    "# 모듈 불러옴\n",
    "import numpy as np\n",
    "import tensorflow as tf"
   ]
  },
  {
   "cell_type": "code",
   "execution_count": 3,
   "id": "3fc6958c",
   "metadata": {},
   "outputs": [
    {
     "data": {
      "text/plain": [
       "('2.7.0', '1.21.5')"
      ]
     },
     "execution_count": 3,
     "metadata": {},
     "output_type": "execute_result"
    }
   ],
   "source": [
    "# 버젼 확인\n",
    "tf.__version__, np.__version__"
   ]
  }
 ],
 "metadata": {
  "kernelspec": {
   "display_name": "Python 3 (ipykernel)",
   "language": "python",
   "name": "python3"
  },
  "language_info": {
   "codemirror_mode": {
    "name": "ipython",
    "version": 3
   },
   "file_extension": ".py",
   "mimetype": "text/x-python",
   "name": "python",
   "nbconvert_exporter": "python",
   "pygments_lexer": "ipython3",
   "version": "3.7.11"
  }
 },
 "nbformat": 4,
 "nbformat_minor": 5
}
